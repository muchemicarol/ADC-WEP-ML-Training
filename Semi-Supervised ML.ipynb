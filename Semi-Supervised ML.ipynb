{
 "cells": [
  {
   "cell_type": "markdown",
   "metadata": {},
   "source": [
    "## Semi-Supervised Machine Learning\n",
    "This is a machine learning algorithm which is a combination of supervised and unsupervised machine learning algorithms. It came to play to tackle the challenge of having a supervised machine learning that needs labelled data. In the event that there is a large dataset, it can be costly to label the data.\n",
    "\n",
    "The idea is to cluster data using unsupervised learning and then use labelled data to label the rest of the unlabelled data.\n",
    "\n",
    "Types of Unsupervised Learning Algorithms:\n",
    "- Inductive Learning (It refers to building a learning algorithm that learns from a labeled training set and generalizes to new data.)\n",
    "- Transductive Learning (The goal is to transduce information from labeled trainin\n",
    "\n",
    "Application of Semi Supervised Learning:\n",
    "- Speech Analysis\n",
    "- Internet Content Classification\n",
    "- Protein Sequence Classification\n",
    "\n",
    "Sources:\n",
    "https://www.geeksforgeeks.org/ml-semi-supervised-learning/\n",
    "https://towardsdatascience.com/semi-supervised-machine-learning-explained-c1a6e1e934c7"
   ]
  },
  {
   "cell_type": "code",
   "execution_count": null,
   "metadata": {},
   "outputs": [],
   "source": []
  },
  {
   "cell_type": "code",
   "execution_count": null,
   "metadata": {},
   "outputs": [],
   "source": []
  },
  {
   "cell_type": "code",
   "execution_count": null,
   "metadata": {},
   "outputs": [],
   "source": []
  },
  {
   "cell_type": "code",
   "execution_count": null,
   "metadata": {},
   "outputs": [],
   "source": []
  },
  {
   "cell_type": "code",
   "execution_count": null,
   "metadata": {},
   "outputs": [],
   "source": []
  },
  {
   "cell_type": "code",
   "execution_count": null,
   "metadata": {},
   "outputs": [],
   "source": []
  },
  {
   "cell_type": "code",
   "execution_count": null,
   "metadata": {},
   "outputs": [],
   "source": []
  }
 ],
 "metadata": {
  "kernelspec": {
   "display_name": "Python 3",
   "language": "python",
   "name": "python3"
  },
  "language_info": {
   "codemirror_mode": {
    "name": "ipython",
    "version": 3
   },
   "file_extension": ".py",
   "mimetype": "text/x-python",
   "name": "python",
   "nbconvert_exporter": "python",
   "pygments_lexer": "ipython3",
   "version": "3.8.10"
  }
 },
 "nbformat": 4,
 "nbformat_minor": 4
}
