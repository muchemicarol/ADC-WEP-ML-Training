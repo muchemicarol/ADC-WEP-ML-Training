{
 "cells": [
  {
   "cell_type": "markdown",
   "metadata": {},
   "source": [
    "## Semi-Supervised Machine Learning\n",
    "This is a machine learning algorithm which is a combination of supervised and unsupervised machine learning algorithms. It came to play to tackle the challenge of having a supervised machine learning that needs labelled data. In the event that there is a large dataset, it can be costly to label the data.\n",
    "\n",
    "The idea is to cluster data using unsupervised learning and then use labelled data to label the rest of the unlabelled data.\n",
    "\n",
    "Types of Unsupervised Learning Algorithms:\n",
    "- Inductive Learning (It refers to building a learning algorithm that learns from a labeled training set and generalizes to new data.)\n",
    "- Transductive Learning (The goal is to transduce information from labeled training datasets to available unlabeled data)\n",
    "\n",
    "Application of Semi-Supervised Learning:\n",
    "- Speech Analysis\n",
    "- Internet Content Classification\n",
    "- Protein Sequence Classification\n",
    "\n",
    "Sources:<br>\n",
    "https://www.geeksforgeeks.org/ml-semi-supervised-learning/\n",
    "https://towardsdatascience.com/semi-supervised-machine-learning-explained-c1a6e1e934c7\n",
    "https://machinelearningmastery.com/semi-supervised-learning-with-label-propagation/"
   ]
  },
  {
   "cell_type": "code",
   "execution_count": 6,
   "metadata": {},
   "outputs": [],
   "source": [
    "from sklearn.datasets import make_classification\n",
    "from sklearn.model_selection import train_test_split"
   ]
  },
  {
   "cell_type": "code",
   "execution_count": 2,
   "metadata": {},
   "outputs": [],
   "source": [
    "X, y = make_classification(n_samples=1000, n_features=2, n_informative=2, n_redundant=0, random_state=1)"
   ]
  },
  {
   "cell_type": "code",
   "execution_count": 3,
   "metadata": {},
   "outputs": [
    {
     "data": {
      "text/plain": [
       "array([[ 0.86341137, -0.91235445],\n",
       "       [-0.53099717,  0.90118241],\n",
       "       [ 0.98277596, -1.59111159],\n",
       "       ...,\n",
       "       [ 1.33019532,  3.72180951],\n",
       "       [-1.01084076,  0.42633933],\n",
       "       [-1.00873243,  1.24540194]])"
      ]
     },
     "execution_count": 3,
     "metadata": {},
     "output_type": "execute_result"
    }
   ],
   "source": [
    "X"
   ]
  },
  {
   "cell_type": "code",
   "execution_count": null,
   "metadata": {},
   "outputs": [],
   "source": [
    "X_train, X_test, y_train, y_test = train_test_split()"
   ]
  },
  {
   "cell_type": "code",
   "execution_count": null,
   "metadata": {},
   "outputs": [],
   "source": []
  },
  {
   "cell_type": "code",
   "execution_count": null,
   "metadata": {},
   "outputs": [],
   "source": []
  }
 ],
 "metadata": {
  "kernelspec": {
   "display_name": "Python 3",
   "language": "python",
   "name": "python3"
  },
  "language_info": {
   "codemirror_mode": {
    "name": "ipython",
    "version": 3
   },
   "file_extension": ".py",
   "mimetype": "text/x-python",
   "name": "python",
   "nbconvert_exporter": "python",
   "pygments_lexer": "ipython3",
   "version": "3.8.10"
  }
 },
 "nbformat": 4,
 "nbformat_minor": 4
}
