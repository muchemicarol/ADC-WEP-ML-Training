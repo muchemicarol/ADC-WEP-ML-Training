{
 "cells": [
  {
   "cell_type": "markdown",
   "metadata": {},
   "source": [
    "## Unsupervised Machine Learning\n",
    "This is a machine learning algorithm which is trained without given labels. The idea is that the model is trained and learns patterns from data that is not tagged.\n",
    "\n",
    "Unsupervised ML is more suitable for problems whose inputs can be categorised together. Fundamental types of unsupervised learning mehtods are:\n",
    "* **Clustering - Groups data into specific categories**\n",
    "* **Destiny Estimation - Summarizes the distribution of data**\n",
    "\n",
    "Examples of Unsupervised Learning Algorithms:\n",
    "- K-Means Clustering\n",
    "- Principal Component Analysis (PCA)\n",
    "- Hierarchical Clustering\n",
    "\n",
    "Application of Unsupervised Learning:\n",
    "- Customer Segmentation\n",
    "- Recommendation System\n",
    "- Labelling unlabeled Datasets\n",
    "- Product Segmentation\n",
    "- Dimensionality Reduction\n",
    "- Anomaly detection\n",
    "\n",
    "Sources:\n",
    "https://pythonistaplanet.com/applications-of-unsupervised-learning/\n",
    "https://thecleverprogrammer.com/2021/04/28/applications-of-unsupervised-learning/"
   ]
  },
  {
   "cell_type": "code",
   "execution_count": null,
   "metadata": {},
   "outputs": [],
   "source": []
  },
  {
   "cell_type": "code",
   "execution_count": null,
   "metadata": {},
   "outputs": [],
   "source": []
  },
  {
   "cell_type": "code",
   "execution_count": null,
   "metadata": {},
   "outputs": [],
   "source": []
  },
  {
   "cell_type": "code",
   "execution_count": null,
   "metadata": {},
   "outputs": [],
   "source": []
  },
  {
   "cell_type": "code",
   "execution_count": null,
   "metadata": {},
   "outputs": [],
   "source": []
  },
  {
   "cell_type": "code",
   "execution_count": null,
   "metadata": {},
   "outputs": [],
   "source": []
  },
  {
   "cell_type": "code",
   "execution_count": null,
   "metadata": {},
   "outputs": [],
   "source": []
  }
 ],
 "metadata": {
  "kernelspec": {
   "display_name": "Python 3",
   "language": "python",
   "name": "python3"
  },
  "language_info": {
   "codemirror_mode": {
    "name": "ipython",
    "version": 3
   },
   "file_extension": ".py",
   "mimetype": "text/x-python",
   "name": "python",
   "nbconvert_exporter": "python",
   "pygments_lexer": "ipython3",
   "version": "3.8.10"
  }
 },
 "nbformat": 4,
 "nbformat_minor": 4
}
