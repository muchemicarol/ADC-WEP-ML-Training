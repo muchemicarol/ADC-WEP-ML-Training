{
 "cells": [
  {
   "cell_type": "markdown",
   "metadata": {},
   "source": [
    "Reinforement learning is about taking a suitable action to maximize reward in a particular situation. Reinforcement learning differs from supervised machine learning in that it has no labe\n",
    "\n",
    "Application of Reinforcement learning:\n",
    "- Find the best possible behavior.\n",
    "- Find the bests/shortest path."
   ]
  }
 ],
 "metadata": {
  "kernelspec": {
   "display_name": "Python 3",
   "language": "python",
   "name": "python3"
  },
  "language_info": {
   "codemirror_mode": {
    "name": "ipython",
    "version": 3
   },
   "file_extension": ".py",
   "mimetype": "text/x-python",
   "name": "python",
   "nbconvert_exporter": "python",
   "pygments_lexer": "ipython3",
   "version": "3.8.10"
  }
 },
 "nbformat": 4,
 "nbformat_minor": 4
}
