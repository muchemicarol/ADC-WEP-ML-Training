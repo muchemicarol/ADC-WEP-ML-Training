{
 "cells": [
  {
   "cell_type": "markdown",
   "metadata": {},
   "source": [
    "## Reinforcement Learning\n",
    "---\n",
    "Reinforement learning is about taking a suitable action to maximize reward in a particular situation. In reinforcement learning, agents are self-trained on reward and punishment mechanisms. The idea is to take the path to maximum rewards and least punishments. Through trial and error, an agent keeps learning continously in an interactive environment from its own actions and experiences. It learns through feedback and interaction.\n",
    "\n",
    "According to Gartner, reinforcement learning is based on rewarding desired behaviors or puninshing underired ones. Instead of one input producing one output, the algorithm produces a variety of outputs and is trained to select the right one based on certain variables.\n",
    "\n",
    "Reinforcement learning differs from supervised machine learning in that it has no label and gets to decide how to perform a given task. This could be either with a trained dataset or the absense of one. \n",
    "\n",
    "Terminologies of Reinforcement Learning: <br>\n",
    "* **Agent** - Decision maker or learner.\n",
    "* **Environment** - Physical world where an agent learns and decides on the action to take.\n",
    "* **Action** - List of events that an agent can perform.\n",
    "* **State** - Current situation of the agent in the environment.\n",
    "* **Reward** - This is what the environment gives for every action by agent. Usually, it is a scalar value and nothing but feedback from the environment.\n",
    "* **Policy** - Strategies that are prepared by the agent to map situations to actions.\n",
    "* **Value Function** - Value of state shows up the reward achieved starting from the state until the policy is executed.\n",
    "* **Model** - \n",
    "\n",
    "Flow of Reinforcement Learning:\n",
    "1. Create the environment\n",
    "2. Define the reward\n",
    "3. Create the agent\n",
    "4. Train and validate the agent (rewards and punishments)\n",
    "5. Deploy the policy\n",
    "\n",
    "\n",
    "\n",
    "Application of Reinforcement learning:\n",
    "- Find the best possible behavior.\n",
    "- Find the bests/shortest path.\n",
    "\n",
    "Sources: <br>\n",
    "https://www.geeksforgeeks.org/what-is-reinforcement-learning/ <br>\n",
    "https://www.analyticsvidhya.com/blog/2021/02/introduction-to-reinforcement-learning-for-beginners/ <br>"
   ]
  },
  {
   "cell_type": "code",
   "execution_count": null,
   "metadata": {},
   "outputs": [],
   "source": []
  }
 ],
 "metadata": {
  "kernelspec": {
   "display_name": "Python 3",
   "language": "python",
   "name": "python3"
  },
  "language_info": {
   "codemirror_mode": {
    "name": "ipython",
    "version": 3
   },
   "file_extension": ".py",
   "mimetype": "text/x-python",
   "name": "python",
   "nbconvert_exporter": "python",
   "pygments_lexer": "ipython3",
   "version": "3.8.10"
  }
 },
 "nbformat": 4,
 "nbformat_minor": 4
}
