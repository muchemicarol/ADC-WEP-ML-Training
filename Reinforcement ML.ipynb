{
 "cells": [
  {
   "cell_type": "markdown",
   "metadata": {},
   "source": [
    "## Reinforcement Learning\n",
    "---\n",
    "Reinforement learning is about taking a suitable action to maximize reward in a particular situation. In reinforcement learning, agents are self-trained on reward and punishment mechanisms. The idea is to take the path to maximum rewards and least punishments. Through trial and error, an agent keeps learning continously in an interactive environment from its own actions and experiences. It learns through feedback and interaction.\n",
    "\n",
    "According to Gartner, reinforcement learning is based on rewarding desired behaviors or puninshing underired ones. Instead of one input producing one output, the algorithm produces a variety of outputs and is trained to select the right one based on certain variables.\n",
    "\n",
    "Reinforcement learning differs from supervised machine learning in that it has no label and gets to decide how to perform a given task. This could be either with a trained dataset or the absense of one. \n",
    "\n",
    "Terminologies of Reinforcement Learning: <br>\n",
    "* **Agent** - Decision maker or learner.\n",
    "* **Environment** - Physical world where an agent learns and decides on the action to take.\n",
    "* **Action** - List of events that an agent can perform.\n",
    "* **State** - Current situation of the agent in the environment.\n",
    "* **Reward** - This is what the environment gives for every action by agent. Usually, it is a scalar value and nothing but feedback from the environment.\n",
    "* **Policy** - Strategies that are prepared by the agent to map situations to actions.\n",
    "* **Value Function** - Value of state shows up the reward achieved starting from the state until the policy is executed.\n",
    "* **Model** - \n",
    "\n",
    "Types of Reinforcement Learning:\n",
    "1. Positive Reinforcement\n",
    "When an event occurs due to a specific behavior, it increases a positive impact on the strength and frequency of the behavior.\n",
    "\n",
    "2. Negative Reinforcement\n",
    "This is the strenghtening of a behavior when a negative condition is stopped, barred and avoided in the future.\n",
    "\n",
    "Flow of Reinforcement Learning:\n",
    "1. Create the environment\n",
    "2. Define the reward\n",
    "3. Create the agent\n",
    "4. Train and validate the agent (rewards and punishments)\n",
    "5. Deploy the policy\n",
    "\n",
    "Reinforcement Learning Algorithms:\n",
    "- **Value Based:** Main goal is to maximize the value function. The agent through a policy expects a long-term return of the current states.\n",
    "- **Policy Based (Deterministic and Stochastic):** In this startegy, you enable to come up with a strategy that helps to gain maximum rewards in the future through possible actions performed in each state.\n",
    "- **Model-Based:** We need to create a virtual model for the agent to help in learning to perform in each specific environment.\n",
    "\n",
    "Models for Reinforcement Learning:\n",
    "- Markov Decision Process\n",
    "- Q Learning (Value-Based)\n",
    "\n",
    "Application of Reinforcement learning:\n",
    "- Robotics for industrial automation\n",
    "- Text summarization engines\n",
    "- Autonomous self driving cars\n",
    "- Aircraft control and robot motion control\n",
    "\n",
    "Sources: <br>\n",
    "https://www.geeksforgeeks.org/what-is-reinforcement-learning/ <br>\n",
    "https://www.analyticsvidhya.com/blog/2021/02/introduction-to-reinforcement-learning-for-beginners/ <br>"
   ]
  },
  {
   "cell_type": "code",
   "execution_count": null,
   "metadata": {},
   "outputs": [],
   "source": []
  }
 ],
 "metadata": {
  "kernelspec": {
   "display_name": "Python 3",
   "language": "python",
   "name": "python3"
  },
  "language_info": {
   "codemirror_mode": {
    "name": "ipython",
    "version": 3
   },
   "file_extension": ".py",
   "mimetype": "text/x-python",
   "name": "python",
   "nbconvert_exporter": "python",
   "pygments_lexer": "ipython3",
   "version": "3.8.10"
  }
 },
 "nbformat": 4,
 "nbformat_minor": 4
}
